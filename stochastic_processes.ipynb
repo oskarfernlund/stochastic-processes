{
 "cells": [
  {
   "cell_type": "markdown",
   "id": "65fb8ab9",
   "metadata": {},
   "source": [
    "# Stochastic Process Sandbox"
   ]
  },
  {
   "cell_type": "markdown",
   "id": "89399a49",
   "metadata": {},
   "source": [
    "Welcome to the stochastic process sandbox! This is a notebook purely for poking around with stochastic processes and visualizing their sample paths :~)"
   ]
  },
  {
   "cell_type": "code",
   "execution_count": null,
   "id": "f476b5fe",
   "metadata": {},
   "outputs": [],
   "source": [
    "import numpy as np\n",
    "import matplotlib.pyplot as plt\n",
    "import plottingtools as pt\n",
    "from mpl_toolkits.mplot3d import Axes3D\n",
    "plt.style.use('seaborn')\n",
    "%matplotlib notebook"
   ]
  },
  {
   "cell_type": "code",
   "execution_count": null,
   "id": "c1f7b905",
   "metadata": {},
   "outputs": [],
   "source": [
    "%%javascript\n",
    "IPython.OutputArea.prototype._should_scroll = function(lines) {return false;}"
   ]
  },
  {
   "cell_type": "markdown",
   "id": "b5f5a9b0",
   "metadata": {},
   "source": [
    "### Simple Random Walk "
   ]
  },
  {
   "cell_type": "code",
   "execution_count": null,
   "id": "55cbb736",
   "metadata": {},
   "outputs": [],
   "source": [
    "from stochastic import SimpleRandomWalk\n",
    "simple_random_walk = SimpleRandomWalk()\n",
    "\n",
    "x_samples = simple_random_walk.sample(steps=10000, paths=3)\n",
    "y_samples = simple_random_walk.sample(steps=10000, paths=3)\n",
    "z_samples = simple_random_walk.sample(steps=10000, paths=3)"
   ]
  },
  {
   "cell_type": "code",
   "execution_count": null,
   "id": "eefc76f4",
   "metadata": {
    "scrolled": true
   },
   "outputs": [],
   "source": [
    "pt.static_plot_1D(x_samples, figsize=(9.65, 5.45))"
   ]
  },
  {
   "cell_type": "code",
   "execution_count": null,
   "id": "3739f9e6",
   "metadata": {
    "scrolled": true
   },
   "outputs": [],
   "source": [
    "pt.static_plot_2D(x_samples, y_samples, figsize=(9.65, 5.45))"
   ]
  },
  {
   "cell_type": "code",
   "execution_count": null,
   "id": "7e853baa",
   "metadata": {
    "scrolled": true
   },
   "outputs": [],
   "source": [
    "pt.static_plot_3D(x_samples, y_samples, z_samples, figsize=(9.65, 5.45))"
   ]
  },
  {
   "cell_type": "markdown",
   "id": "658db04a",
   "metadata": {},
   "source": [
    "### Gaussian Random Walk "
   ]
  },
  {
   "cell_type": "code",
   "execution_count": null,
   "id": "f8284653",
   "metadata": {},
   "outputs": [],
   "source": []
  },
  {
   "cell_type": "markdown",
   "id": "47d0944e",
   "metadata": {},
   "source": [
    "### Wiener Process "
   ]
  },
  {
   "cell_type": "code",
   "execution_count": null,
   "id": "55349908",
   "metadata": {},
   "outputs": [],
   "source": []
  },
  {
   "cell_type": "markdown",
   "id": "5bfa7bbd",
   "metadata": {},
   "source": [
    "### Polya Urn Process "
   ]
  },
  {
   "cell_type": "code",
   "execution_count": null,
   "id": "97b79688",
   "metadata": {},
   "outputs": [],
   "source": []
  }
 ],
 "metadata": {
  "kernelspec": {
   "display_name": "Python 3 (ipykernel)",
   "language": "python",
   "name": "python3"
  },
  "language_info": {
   "codemirror_mode": {
    "name": "ipython",
    "version": 3
   },
   "file_extension": ".py",
   "mimetype": "text/x-python",
   "name": "python",
   "nbconvert_exporter": "python",
   "pygments_lexer": "ipython3",
   "version": "3.9.6"
  }
 },
 "nbformat": 4,
 "nbformat_minor": 5
}
